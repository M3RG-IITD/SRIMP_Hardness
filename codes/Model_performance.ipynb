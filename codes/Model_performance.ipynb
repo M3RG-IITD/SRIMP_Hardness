{
 "cells": [
  {
   "cell_type": "markdown",
   "id": "85007318",
   "metadata": {
    "tags": []
   },
   "source": [
    "## LOADING LIBRARIES"
   ]
  },
  {
   "cell_type": "markdown",
   "id": "a30b4d11-a8af-4d43-9bac-dd286ec1ff86",
   "metadata": {},
   "source": [
    "### SRIML Model"
   ]
  },
  {
   "cell_type": "code",
   "execution_count": 1,
   "id": "98b241ac",
   "metadata": {},
   "outputs": [],
   "source": [
    "from warnings import filterwarnings\n",
    "filterwarnings('ignore')"
   ]
  },
  {
   "cell_type": "code",
   "execution_count": 2,
   "id": "6f4e4419",
   "metadata": {},
   "outputs": [
    {
     "data": {
      "text/plain": [
       "<torch._C.Generator at 0x2b4deca01e70>"
      ]
     },
     "execution_count": 2,
     "metadata": {},
     "output_type": "execute_result"
    }
   ],
   "source": [
    "import numpy as np\n",
    "#import torch\n",
    "import matplotlib.pyplot as plt\n",
    "import sklearn\n",
    "import pandas as pd\n",
    "import torch.nn as nn\n",
    "from torchvision import datasets, transforms\n",
    "import torch.utils\n",
    "from torch import optim\n",
    "from torchvision.transforms import ToTensor\n",
    "import torch\n",
    "import time\n",
    "from math import floor\n",
    "from new_plot import *\n",
    "torch.manual_seed(45)\n"
   ]
  },
  {
   "cell_type": "markdown",
   "id": "d17c6950",
   "metadata": {},
   "source": [
    "\n",
    "\n",
    "## LOAD _ DATA"
   ]
  },
  {
   "cell_type": "code",
   "execution_count": 3,
   "id": "8fc93bf1",
   "metadata": {},
   "outputs": [],
   "source": [
    "data  = pd.read_csv('/scratch/civil/phd/cez218288/Hardness_Final/APL745_lab1_2021CEZ8288/146_ele.csv')"
   ]
  },
  {
   "cell_type": "code",
   "execution_count": 4,
   "id": "038cbf0e",
   "metadata": {},
   "outputs": [],
   "source": [
    "data = torch.Tensor(data.values)"
   ]
  },
  {
   "cell_type": "code",
   "execution_count": 5,
   "id": "4d2eed82",
   "metadata": {},
   "outputs": [],
   "source": [
    "max_d = data.max(0).values\n",
    "min_d = data.min(0).values\n",
    "data1 = data/max_d"
   ]
  },
  {
   "cell_type": "code",
   "execution_count": 6,
   "id": "bffa384d",
   "metadata": {},
   "outputs": [],
   "source": [
    "X = data1[:, :-1]\n",
    "y=data1[:, -1]"
   ]
  },
  {
   "cell_type": "code",
   "execution_count": 7,
   "id": "2902dd60",
   "metadata": {},
   "outputs": [],
   "source": [
    "from sklearn.model_selection import train_test_split\n",
    "x_train, x_test, train_y, test_y = train_test_split(X, y, test_size=0.2, random_state=42)"
   ]
  },
  {
   "cell_type": "code",
   "execution_count": 8,
   "id": "a4039814",
   "metadata": {},
   "outputs": [],
   "source": [
    "train_x = torch.tensor(x_train[:,:-1])\n",
    "test_x = torch.tensor(x_test[:,:-1])\n",
    "pp1 = torch.tensor(x_train[:, -1])\n",
    "pp2 = torch.tensor(x_test[:, -1])"
   ]
  },
  {
   "cell_type": "markdown",
   "id": "78afe569",
   "metadata": {},
   "source": [
    "\n",
    "## Forward Pass"
   ]
  },
  {
   "cell_type": "code",
   "execution_count": 9,
   "id": "c0e9f4d9",
   "metadata": {},
   "outputs": [],
   "source": [
    "#Defining Model\n",
    "\n",
    "## Forward Pass\n",
    "class NeuralNetwork(nn.Module):\n",
    "    def __init__(self, input_size, hidden1_size, hidden2_size, output_size):\n",
    "\n",
    "        super(NeuralNetwork, self).__init__()\n",
    "        self.relu = nn.ReLU()\n",
    "        self.lin1 = nn.Linear(input_size, hidden1_size)\n",
    "        self.lin2 = nn.Linear(hidden1_size, hidden2_size)\n",
    "        self.lin3 = nn.Linear(hidden2_size, output_size)\n",
    "        self.Dropout = nn.Dropout(p=0.1)\n",
    "\n",
    "    def forward(self, x):\n",
    "\n",
    "        out = self.lin1(x)\n",
    "        out = self.Dropout(out)\n",
    "        out = self.relu(out)\n",
    "        out = self.lin2(out)\n",
    "        out = self.Dropout(out)\n",
    "        out = self.relu(out)\n",
    "        out = self.lin3(out)\n",
    "        \n",
    " \n",
    "\n",
    "        return out\n",
    "    \n",
    "#     def loss(self,y_pred, y_true,p):\n",
    "\n",
    "    def loss(self,y_pred, y_true):\n",
    "        return torch.div(((y_pred - y_true)**2).sum(0),len(y_pred))\n",
    "\n",
    "    \n"
   ]
  },
  {
   "cell_type": "code",
   "execution_count": 10,
   "id": "2c45a835",
   "metadata": {},
   "outputs": [
    {
     "name": "stdout",
     "output_type": "stream",
     "text": [
      "NeuralNetwork(\n",
      "  (relu): ReLU()\n",
      "  (lin1): Linear(in_features=15, out_features=5, bias=True)\n",
      "  (lin2): Linear(in_features=5, out_features=8, bias=True)\n",
      "  (lin3): Linear(in_features=8, out_features=2, bias=True)\n",
      "  (Dropout): Dropout(p=0.1, inplace=False)\n",
      ")\n"
     ]
    }
   ],
   "source": [
    "input = 15 # (38*11)\n",
    "h1 = 5     #5\n",
    "h2 = 8   # 8\n",
    "output =2   # (11*1)\n",
    "model = NeuralNetwork(input, h1, h2, output)\n",
    "\n",
    "\n",
    "## Optimizer\n",
    "optimizer = torch.optim.Adam(model.parameters(), lr=0.000901 , weight_decay = 1e-5)\n",
    "torch.manual_seed(45)\n",
    "num_epochs = 23000\n",
    "ntrain = 116\n",
    "ntest = 30\n",
    "print(model)"
   ]
  },
  {
   "cell_type": "markdown",
   "id": "66b27283-bf3f-4ccf-9824-89d0bf6c6461",
   "metadata": {},
   "source": [
    "## Loading the SRIML model"
   ]
  },
  {
   "cell_type": "code",
   "execution_count": 11,
   "id": "c1e2b794",
   "metadata": {},
   "outputs": [
    {
     "data": {
      "text/plain": [
       "NeuralNetwork(\n",
       "  (relu): ReLU()\n",
       "  (lin1): Linear(in_features=15, out_features=5, bias=True)\n",
       "  (lin2): Linear(in_features=5, out_features=8, bias=True)\n",
       "  (lin3): Linear(in_features=8, out_features=2, bias=True)\n",
       "  (Dropout): Dropout(p=0.1, inplace=False)\n",
       ")"
      ]
     },
     "execution_count": 11,
     "metadata": {},
     "output_type": "execute_result"
    }
   ],
   "source": [
    "model = torch.load('/scratch/civil/phd/cez218288/Hardness_Final/APL745_lab1_2021CEZ8288/SRIML_model.pt')\n",
    "model.eval()"
   ]
  },
  {
   "cell_type": "markdown",
   "id": "b7e0817e-010e-4dac-8c60-1fe8cf0fe5a1",
   "metadata": {},
   "source": [
    "### Error Metric"
   ]
  },
  {
   "cell_type": "code",
   "execution_count": 12,
   "id": "ae94fe66",
   "metadata": {},
   "outputs": [],
   "source": [
    "from sklearn.metrics import r2_score, mean_absolute_error, mean_squared_error\n",
    "def get_score(base='Training', actual=0,predicted=0):\n",
    "    r2 = r2_score(actual,predicted)\n",
    "    mae = mean_absolute_error(actual,predicted)\n",
    "    mse = mean_squared_error(actual,predicted)\n",
    "    print(base,r2.round(3),mae.round(3),mse.round(3))\n",
    "    return r2,mae,mse"
   ]
  },
  {
   "cell_type": "code",
   "execution_count": 13,
   "id": "cf208643",
   "metadata": {},
   "outputs": [],
   "source": [
    "def pred_const(example):\n",
    "    return (torch.square(model(example)))"
   ]
  },
  {
   "cell_type": "code",
   "execution_count": 14,
   "id": "76750fe1",
   "metadata": {},
   "outputs": [],
   "source": [
    "def pred_hard(example,p):\n",
    "    t1 = torch.div(pred_const(example)[:,0],2*p)\n",
    "    t2 = pred_const(example)[:,1]\n",
    "    t3 = pred_const(example)[:,0]**2 + 4*pred_const(example)[:,0]*pred_const(example)[:,1]*p\n",
    "    t4 = torch.div(torch.sqrt(t3) , 2*p)\n",
    "    return t1+t2+t3+t4 \n",
    "    "
   ]
  },
  {
   "cell_type": "code",
   "execution_count": 15,
   "id": "84bba381",
   "metadata": {},
   "outputs": [
    {
     "name": "stdout",
     "output_type": "stream",
     "text": [
      "Training: 0.979 0.016 0.001\n",
      "Test : 0.948 0.029 0.002\n"
     ]
    },
    {
     "data": {
      "text/plain": [
       "(0.9479549543137343, 0.028738929, 0.0020544883)"
      ]
     },
     "execution_count": 15,
     "metadata": {},
     "output_type": "execute_result"
    }
   ],
   "source": [
    "get_score('Training:',actual=train_y.detach().numpy(),predicted=pred_hard(train_x,pp1).detach().numpy())\n",
    "get_score('Test :',actual=test_y.detach().numpy(),predicted=pred_hard(test_x,pp2).detach().numpy())"
   ]
  },
  {
   "cell_type": "markdown",
   "id": "bd59bbec-bd44-4b11-9e98-5c4709c27ee7",
   "metadata": {},
   "source": [
    "## Renormalisation"
   ]
  },
  {
   "cell_type": "code",
   "execution_count": 16,
   "id": "22507ea9-6366-498c-aa19-37673e202f07",
   "metadata": {},
   "outputs": [],
   "source": [
    "def renorm_pred_hard(example,p):\n",
    "    return pred_hard(example,p)*max_d[-1]\n",
    "def renorm_act_hard(example):\n",
    "    return example*max_d[-1]\n",
    "def renorm_load(p):\n",
    "    return p*max_d[-2]"
   ]
  },
  {
   "cell_type": "markdown",
   "id": "c049ff68-1fa2-4d18-a59c-15f0aa8a0440",
   "metadata": {},
   "source": [
    "## Prediction on new daasets"
   ]
  },
  {
   "cell_type": "code",
   "execution_count": 17,
   "id": "a8677241",
   "metadata": {},
   "outputs": [],
   "source": [
    "dd = pd.read_csv('NB_136.csv')"
   ]
  },
  {
   "cell_type": "code",
   "execution_count": 18,
   "id": "0be75d73",
   "metadata": {},
   "outputs": [
    {
     "data": {
      "text/html": [
       "<div>\n",
       "<style scoped>\n",
       "    .dataframe tbody tr th:only-of-type {\n",
       "        vertical-align: middle;\n",
       "    }\n",
       "\n",
       "    .dataframe tbody tr th {\n",
       "        vertical-align: top;\n",
       "    }\n",
       "\n",
       "    .dataframe thead th {\n",
       "        text-align: right;\n",
       "    }\n",
       "</style>\n",
       "<table border=\"1\" class=\"dataframe\">\n",
       "  <thead>\n",
       "    <tr style=\"text-align: right;\">\n",
       "      <th></th>\n",
       "      <th>Al</th>\n",
       "      <th>B</th>\n",
       "      <th>Ba</th>\n",
       "      <th>Ca</th>\n",
       "      <th>Cs</th>\n",
       "      <th>Fe</th>\n",
       "      <th>K</th>\n",
       "      <th>Li</th>\n",
       "      <th>Mg</th>\n",
       "      <th>N</th>\n",
       "      <th>Na</th>\n",
       "      <th>O</th>\n",
       "      <th>Si</th>\n",
       "      <th>Ti</th>\n",
       "      <th>Y</th>\n",
       "      <th>LOAD</th>\n",
       "      <th>HARDNESS</th>\n",
       "    </tr>\n",
       "  </thead>\n",
       "  <tbody>\n",
       "    <tr>\n",
       "      <th>0</th>\n",
       "      <td>0</td>\n",
       "      <td>33.333333</td>\n",
       "      <td>0</td>\n",
       "      <td>0</td>\n",
       "      <td>0</td>\n",
       "      <td>0</td>\n",
       "      <td>0</td>\n",
       "      <td>0</td>\n",
       "      <td>0</td>\n",
       "      <td>0</td>\n",
       "      <td>11.111111</td>\n",
       "      <td>55.555556</td>\n",
       "      <td>0</td>\n",
       "      <td>0</td>\n",
       "      <td>0</td>\n",
       "      <td>0.1</td>\n",
       "      <td>6.912808</td>\n",
       "    </tr>\n",
       "    <tr>\n",
       "      <th>1</th>\n",
       "      <td>0</td>\n",
       "      <td>33.333333</td>\n",
       "      <td>0</td>\n",
       "      <td>0</td>\n",
       "      <td>0</td>\n",
       "      <td>0</td>\n",
       "      <td>0</td>\n",
       "      <td>0</td>\n",
       "      <td>0</td>\n",
       "      <td>0</td>\n",
       "      <td>11.111111</td>\n",
       "      <td>55.555556</td>\n",
       "      <td>0</td>\n",
       "      <td>0</td>\n",
       "      <td>0</td>\n",
       "      <td>0.2</td>\n",
       "      <td>6.348042</td>\n",
       "    </tr>\n",
       "    <tr>\n",
       "      <th>2</th>\n",
       "      <td>0</td>\n",
       "      <td>33.333333</td>\n",
       "      <td>0</td>\n",
       "      <td>0</td>\n",
       "      <td>0</td>\n",
       "      <td>0</td>\n",
       "      <td>0</td>\n",
       "      <td>0</td>\n",
       "      <td>0</td>\n",
       "      <td>0</td>\n",
       "      <td>11.111111</td>\n",
       "      <td>55.555556</td>\n",
       "      <td>0</td>\n",
       "      <td>0</td>\n",
       "      <td>0</td>\n",
       "      <td>0.3</td>\n",
       "      <td>5.691247</td>\n",
       "    </tr>\n",
       "    <tr>\n",
       "      <th>3</th>\n",
       "      <td>0</td>\n",
       "      <td>33.333333</td>\n",
       "      <td>0</td>\n",
       "      <td>0</td>\n",
       "      <td>0</td>\n",
       "      <td>0</td>\n",
       "      <td>0</td>\n",
       "      <td>0</td>\n",
       "      <td>0</td>\n",
       "      <td>0</td>\n",
       "      <td>11.111111</td>\n",
       "      <td>55.555556</td>\n",
       "      <td>0</td>\n",
       "      <td>0</td>\n",
       "      <td>0</td>\n",
       "      <td>0.5</td>\n",
       "      <td>5.053864</td>\n",
       "    </tr>\n",
       "    <tr>\n",
       "      <th>4</th>\n",
       "      <td>0</td>\n",
       "      <td>33.333333</td>\n",
       "      <td>0</td>\n",
       "      <td>0</td>\n",
       "      <td>0</td>\n",
       "      <td>0</td>\n",
       "      <td>0</td>\n",
       "      <td>0</td>\n",
       "      <td>0</td>\n",
       "      <td>0</td>\n",
       "      <td>11.111111</td>\n",
       "      <td>55.555556</td>\n",
       "      <td>0</td>\n",
       "      <td>0</td>\n",
       "      <td>0</td>\n",
       "      <td>1.0</td>\n",
       "      <td>4.557205</td>\n",
       "    </tr>\n",
       "    <tr>\n",
       "      <th>5</th>\n",
       "      <td>0</td>\n",
       "      <td>33.333333</td>\n",
       "      <td>0</td>\n",
       "      <td>0</td>\n",
       "      <td>0</td>\n",
       "      <td>0</td>\n",
       "      <td>0</td>\n",
       "      <td>0</td>\n",
       "      <td>0</td>\n",
       "      <td>0</td>\n",
       "      <td>11.111111</td>\n",
       "      <td>55.555556</td>\n",
       "      <td>0</td>\n",
       "      <td>0</td>\n",
       "      <td>0</td>\n",
       "      <td>2.0</td>\n",
       "      <td>4.163021</td>\n",
       "    </tr>\n",
       "    <tr>\n",
       "      <th>6</th>\n",
       "      <td>0</td>\n",
       "      <td>33.333333</td>\n",
       "      <td>0</td>\n",
       "      <td>0</td>\n",
       "      <td>0</td>\n",
       "      <td>0</td>\n",
       "      <td>0</td>\n",
       "      <td>0</td>\n",
       "      <td>0</td>\n",
       "      <td>0</td>\n",
       "      <td>11.111111</td>\n",
       "      <td>55.555556</td>\n",
       "      <td>0</td>\n",
       "      <td>0</td>\n",
       "      <td>0</td>\n",
       "      <td>5.0</td>\n",
       "      <td>4.048965</td>\n",
       "    </tr>\n",
       "  </tbody>\n",
       "</table>\n",
       "</div>"
      ],
      "text/plain": [
       "   Al          B  Ba  Ca  Cs  Fe  K  Li  Mg  N         Na          O  Si  Ti  \\\n",
       "0   0  33.333333   0   0   0   0  0   0   0  0  11.111111  55.555556   0   0   \n",
       "1   0  33.333333   0   0   0   0  0   0   0  0  11.111111  55.555556   0   0   \n",
       "2   0  33.333333   0   0   0   0  0   0   0  0  11.111111  55.555556   0   0   \n",
       "3   0  33.333333   0   0   0   0  0   0   0  0  11.111111  55.555556   0   0   \n",
       "4   0  33.333333   0   0   0   0  0   0   0  0  11.111111  55.555556   0   0   \n",
       "5   0  33.333333   0   0   0   0  0   0   0  0  11.111111  55.555556   0   0   \n",
       "6   0  33.333333   0   0   0   0  0   0   0  0  11.111111  55.555556   0   0   \n",
       "\n",
       "   Y  LOAD  HARDNESS  \n",
       "0  0   0.1  6.912808  \n",
       "1  0   0.2  6.348042  \n",
       "2  0   0.3  5.691247  \n",
       "3  0   0.5  5.053864  \n",
       "4  0   1.0  4.557205  \n",
       "5  0   2.0  4.163021  \n",
       "6  0   5.0  4.048965  "
      ]
     },
     "execution_count": 18,
     "metadata": {},
     "output_type": "execute_result"
    }
   ],
   "source": [
    "dd"
   ]
  },
  {
   "cell_type": "code",
   "execution_count": 19,
   "id": "79070be9",
   "metadata": {},
   "outputs": [],
   "source": [
    "dn2 = pd.read_csv('NBS_136.csv')"
   ]
  },
  {
   "cell_type": "code",
   "execution_count": 20,
   "id": "d98effda",
   "metadata": {},
   "outputs": [],
   "source": [
    "dm2 = torch.Tensor(dn2.values)"
   ]
  },
  {
   "cell_type": "code",
   "execution_count": 21,
   "id": "86f9c9ac",
   "metadata": {},
   "outputs": [],
   "source": [
    "\n",
    "dx2 = dm2/max_d"
   ]
  },
  {
   "cell_type": "code",
   "execution_count": 22,
   "id": "9ccd27f0",
   "metadata": {},
   "outputs": [],
   "source": [
    "\n",
    "new_x2 = dx2[:,:-2]\n",
    "load2 = dx2[:,-2]\n",
    "hardness2 = dx2[:, -1]\n"
   ]
  },
  {
   "cell_type": "code",
   "execution_count": 23,
   "id": "d8e7c618",
   "metadata": {},
   "outputs": [
    {
     "data": {
      "text/plain": [
       "tensor([4.6091, 4.6091, 4.6091, 4.6091, 4.6091, 4.6091, 4.6091],\n",
       "       grad_fn=<SelectBackward>)"
      ]
     },
     "execution_count": 23,
     "metadata": {},
     "output_type": "execute_result"
    }
   ],
   "source": [
    "H_inf = (pred_const(new_x2)*max_d[-1])[:,1]\n",
    "H_inf"
   ]
  },
  {
   "cell_type": "code",
   "execution_count": 24,
   "id": "995ce04a",
   "metadata": {},
   "outputs": [
    {
     "data": {
      "text/plain": [
       "tensor([7.8899, 6.7558, 6.3020, 5.8752, 5.4733, 5.2051, 4.9780],\n",
       "       grad_fn=<MulBackward0>)"
      ]
     },
     "execution_count": 24,
     "metadata": {},
     "output_type": "execute_result"
    }
   ],
   "source": [
    "renorm_pred_hard(new_x2,load2)"
   ]
  },
  {
   "cell_type": "code",
   "execution_count": 25,
   "id": "48359e1f",
   "metadata": {},
   "outputs": [
    {
     "data": {
      "text/plain": [
       "tensor([9.5445, 8.7044, 7.7203, 6.9752, 6.1926, 5.5838, 5.4466])"
      ]
     },
     "execution_count": 25,
     "metadata": {},
     "output_type": "execute_result"
    }
   ],
   "source": [
    "renorm_act_hard(hardness2)"
   ]
  },
  {
   "cell_type": "code",
   "execution_count": 26,
   "id": "49c76f94",
   "metadata": {},
   "outputs": [
    {
     "data": {
      "text/plain": [
       "tensor([0.1000, 0.2000, 0.3000, 0.5000, 1.0000, 2.0000, 5.0000])"
      ]
     },
     "execution_count": 26,
     "metadata": {},
     "output_type": "execute_result"
    }
   ],
   "source": [
    "renorm_load(load2)"
   ]
  },
  {
   "cell_type": "code",
   "execution_count": 27,
   "id": "ce1a949a",
   "metadata": {},
   "outputs": [
    {
     "data": {
      "text/plain": [
       "<matplotlib.legend.Legend at 0x2b4df1fea190>"
      ]
     },
     "execution_count": 27,
     "metadata": {},
     "output_type": "execute_result"
    },
    {
     "name": "stderr",
     "output_type": "stream",
     "text": [
      "findfont: Font family ['cursive'] not found. Falling back to DejaVu Sans.\n"
     ]
    },
    {
     "data": {
      "image/png": "[encoded data removed]",
      "text/plain": [
       "<Figure size 576x576 with 1 Axes>"
      ]
     },
     "metadata": {},
     "output_type": "display_data"
    }
   ],
   "source": [
    "from pylab import rcParams\n",
    "\n",
    "fig, ax = plt.subplots(figsize = (8,8))\n",
    "plt.setp(ax.spines.values(), linewidth=3)\n",
    "plt.plot(renorm_load(load2),renorm_act_hard(hardness2),'-o',color ='#FF004F')\n",
    "\n",
    "plt.plot(renorm_load(load2),renorm_pred_hard(new_x2,load2).detach().numpy(),'-o',color = '#007FFF')\n",
    "plt.tick_params(axis=\"x\", which= \"both\",width = 3)\n",
    "plt.tick_params(axis=\"y\", which= \"both\" , width = 3)\n",
    "\n",
    "plt.xlabel('Load (N)', fontsize = 25)\n",
    "plt.ylabel('Hardness (GPa)',fontsize = 25)\n",
    "plt.legend([\"Actual data\", \"Predicted data\", \"H_infinity\"], loc='upper right', fontsize = 20)\n",
    "\n"
   ]
  },
  {
   "cell_type": "markdown",
   "id": "253d32c8",
   "metadata": {},
   "source": [
    "## MLHL model"
   ]
  },
  {
   "cell_type": "code",
   "execution_count": 28,
   "id": "854c388d",
   "metadata": {},
   "outputs": [],
   "source": [
    "import sys\n",
    "agrs = sys.argv\n",
    "from functools import partial\n",
    "\n",
    "import pandas as pd\n",
    "import numpy as np\n",
    "import MLPipeline as MLP\n",
    "import os\n",
    "import torch\n",
    "from sklearn.metrics import r2_score\n",
    "from new_plot import *\n",
    "set_things()"
   ]
  },
  {
   "cell_type": "code",
   "execution_count": 29,
   "id": "a2e7ce8a",
   "metadata": {},
   "outputs": [],
   "source": [
    "ds = pd.read_csv(\"NBS_136ele.csv\")"
   ]
  },
  {
   "cell_type": "code",
   "execution_count": 30,
   "id": "579a08e1",
   "metadata": {},
   "outputs": [
    {
     "data": {
      "text/plain": [
       "(7, 6)"
      ]
     },
     "execution_count": 30,
     "metadata": {},
     "output_type": "execute_result"
    }
   ],
   "source": [
    "ds.shape"
   ]
  },
  {
   "cell_type": "code",
   "execution_count": 31,
   "id": "c623e270",
   "metadata": {},
   "outputs": [],
   "source": [
    "X_train = pd.read_csv('04_Pipeline_Combined_Node_train_test_split_train_split_X.csv')"
   ]
  },
  {
   "cell_type": "code",
   "execution_count": 32,
   "id": "351fdaa1",
   "metadata": {},
   "outputs": [],
   "source": [
    "data1 = pd.DataFrame(columns=X_train.columns.tolist()) ### Creating new dataframe as per the training dataset column"
   ]
  },
  {
   "cell_type": "code",
   "execution_count": 33,
   "id": "c765ad58",
   "metadata": {},
   "outputs": [],
   "source": [
    "data2 = data1.append(ds, ignore_index=True).fillna(0)"
   ]
  },
  {
   "cell_type": "code",
   "execution_count": 34,
   "id": "d60c1531",
   "metadata": {},
   "outputs": [],
   "source": [
    "X_trn_n = data2[data2.columns[:-1]]\n"
   ]
  },
  {
   "cell_type": "code",
   "execution_count": 35,
   "id": "fae72e36",
   "metadata": {},
   "outputs": [],
   "source": [
    "y_trn_n = data2[['HARDNESS']]"
   ]
  },
  {
   "cell_type": "markdown",
   "id": "b9694464-252d-4bad-9665-c4fbcbafcb71",
   "metadata": {},
   "source": [
    "## Loading MLHL Model"
   ]
  },
  {
   "cell_type": "code",
   "execution_count": 36,
   "id": "4ec46a26",
   "metadata": {},
   "outputs": [],
   "source": [
    "import json\n",
    "file2 = \"00_Pipeline_Combined_Node_Data Normalization_means_and_stds.json\"\n",
    "ms_file = json.load(open(file2, \"rb\"))\n",
    "import pickle\n",
    "file_name = \"01_Pipeline_Combined_Node_Optuna NN_Trial_148_10_model.pkl\"\n",
    "nn_model_loaded = pickle.load(open(file_name, \"rb\"))"
   ]
  },
  {
   "cell_type": "code",
   "execution_count": 37,
   "id": "b151f476",
   "metadata": {},
   "outputs": [
    {
     "name": "stdout",
     "output_type": "stream",
     "text": [
      "\n",
      "Pipeline nor is running\n",
      "\n",
      "Node 0 running.\n",
      "Node name:  Data Normalization\n"
     ]
    }
   ],
   "source": [
    "P = MLP.Pipe(name=\"nor\", output=\"norm\")\n",
    "P.add(MLP.data_cleaning.normalize_data(mean=ms_file[\"means\"], std=ms_file[\"stds\"]))  ##(x-mean)/(std)\n",
    "\n",
    "X_train_N, y_train_N = P((X_trn_n, y_trn_n))"
   ]
  },
  {
   "cell_type": "code",
   "execution_count": 38,
   "id": "bf280f67",
   "metadata": {},
   "outputs": [
    {
     "data": {
      "text/plain": [
       "(7, 52)"
      ]
     },
     "execution_count": 38,
     "metadata": {},
     "output_type": "execute_result"
    }
   ],
   "source": [
    "X_trn_n.shape"
   ]
  },
  {
   "cell_type": "code",
   "execution_count": 39,
   "id": "3300e246",
   "metadata": {},
   "outputs": [],
   "source": [
    "mean=ms_file[\"means\"]\n",
    "std=ms_file[\"stds\"]\n",
    "y_test_pred1=nn_model_loaded(torch.tensor(X_train_N.values).float()).detach().numpy()\n",
    "Y_pred = mean[-1] + y_test_pred1*std[-1]"
   ]
  },
  {
   "cell_type": "code",
   "execution_count": 40,
   "id": "3f463f57",
   "metadata": {},
   "outputs": [],
   "source": [
    "dr_x = data2.iloc[:,:-1]\n",
    "dr_x.to_csv('dr_xx.csv', index = False)"
   ]
  },
  {
   "cell_type": "code",
   "execution_count": 41,
   "id": "30ee21ba",
   "metadata": {},
   "outputs": [],
   "source": [
    "dr_y = data2.iloc[:,-1]\n",
    "dr_y.to_csv('dr_yy.csv', index = False)"
   ]
  },
  {
   "cell_type": "code",
   "execution_count": 42,
   "id": "bcf6793f",
   "metadata": {},
   "outputs": [],
   "source": [
    "dr_xx = pd.read_csv('dr_xx.csv')\n",
    "dr_yy = pd.read_csv('dr_yy.csv')"
   ]
  },
  {
   "cell_type": "code",
   "execution_count": 43,
   "id": "e9a07365",
   "metadata": {},
   "outputs": [
    {
     "data": {
      "text/plain": [
       "(7, 52)"
      ]
     },
     "execution_count": 43,
     "metadata": {},
     "output_type": "execute_result"
    }
   ],
   "source": [
    "dr_x .shape"
   ]
  },
  {
   "cell_type": "code",
   "execution_count": 44,
   "id": "59cedc45",
   "metadata": {},
   "outputs": [
    {
     "name": "stdout",
     "output_type": "stream",
     "text": [
      "\n",
      "Pipeline Combined is running\n",
      "\n",
      "Node 0 running.\n",
      "Node name:  Data Normalization\n"
     ]
    }
   ],
   "source": [
    "P = MLP.Pipe(name=\"Combined\", output=\"2b_nn_results_test\")\n",
    "P.add(MLP.data_cleaning.normalize_data(mean=ms_file[\"means\"], std=ms_file[\"stds\"]))  ##(x-mean)/(std)\n",
    "\n",
    "dr_x_N, dr_y_N = P((dr_xx, dr_yy))\n"
   ]
  },
  {
   "cell_type": "code",
   "execution_count": 46,
   "id": "9ff5f1a3-befa-4e88-881b-82207522e544",
   "metadata": {},
   "outputs": [],
   "source": [
    "dr_yy_pred=nn_model_loaded(torch.tensor(dr_x_N.values).float()).detach().numpy()"
   ]
  },
  {
   "cell_type": "code",
   "execution_count": 47,
   "id": "7df8df1d",
   "metadata": {},
   "outputs": [],
   "source": [
    "dr_yy_pred_rn = mean[-1]+dr_yy_pred*std[-1]\n"
   ]
  },
  {
   "cell_type": "code",
   "execution_count": 48,
   "id": "5793d657",
   "metadata": {},
   "outputs": [],
   "source": [
    "dr_x_L = dr_x.iloc[:,-1]"
   ]
  },
  {
   "cell_type": "code",
   "execution_count": 50,
   "id": "613c70a4",
   "metadata": {},
   "outputs": [
    {
     "data": {
      "image/png": "[encoded data removed]",
      "text/plain": [
       "<Figure size 576x576 with 1 Axes>"
      ]
     },
     "metadata": {},
     "output_type": "display_data"
    }
   ],
   "source": [
    "from pylab import rcParams\n",
    "fig, ax = plt.subplots(figsize = (8,8))\n",
    "plt.setp(ax.spines.values(), linewidth=3)\n",
    "plt.plot(dr_x_L,dr_y,'-o',color ='#FF004F')\n",
    "#plt.scatter(dr_x_L,dr_yy_pred_rn ,s =60,'-o',color ='#FF004F')\n",
    "plt.plot(dr_x_L,dr_yy_pred_rn,'-o',color ='#007FFF')\n",
    "\n",
    "plt.xlabel('Load (N)' , fontsize =25)\n",
    "plt.ylabel('Hardness (GPa)', fontsize =25)\n",
    "plt.legend([\"Actual data\",  \"Predicted data\" ], loc='upper right' , fontsize =20)\n",
    "plt.tick_params(axis=\"x\", which= \"both\",width = 3)\n",
    "plt.tick_params(axis=\"y\", which= \"both\" , width = 3)\n",
    "# plt.tick_params(which='minor',length=6,width=2,labelsize=18, direction ='in')\n",
    "# plt.tick_params(which='major',length=10,width=2,labelsize=18,direction ='in')\n",
    "#plt.ylim([5.5,7])\n",
    "# plt.savefig('NBS_136.tif',format='tif', dpi=1200)"
   ]
  },
  {
   "cell_type": "markdown",
   "id": "4a9fe2e8-267f-4324-a8b7-bed81d55cca4",
   "metadata": {},
   "source": [
    "## Comparison plot"
   ]
  },
  {
   "cell_type": "code",
   "execution_count": 51,
   "id": "b4cd8100",
   "metadata": {},
   "outputs": [
    {
     "data": {
      "text/plain": [
       "Text(0.5, 1.0, 'NBS')"
      ]
     },
     "execution_count": 51,
     "metadata": {},
     "output_type": "execute_result"
    },
    {
     "data": {
      "image/png": "[encoded data removed]",
      "text/plain": [
       "<Figure size 576x576 with 1 Axes>"
      ]
     },
     "metadata": {},
     "output_type": "display_data"
    }
   ],
   "source": [
    "from pylab import rcParams\n",
    "fig, ax = plt.subplots(figsize = (8,8))\n",
    "plt.setp(ax.spines.values(), linewidth=3)\n",
    "# rcParams['figure.figsize'] = 6, 6\n",
    "plt.plot(dr_x_L,dr_y,'-o', ms =15 ,color ='#FF004F')\n",
    "#plt.scatter(dr_x_L,dr_yy_pred_rn ,s =60,'-o',color ='#FF004F')\n",
    "plt.plot(dr_x_L,dr_yy_pred_rn,'-^',ms =15,color ='#007FFF')\n",
    "# plt.plot(renorm_load(load2),renorm_act_hard(hardness2),'-o',color ='#FF004F')\n",
    "\n",
    "plt.plot(renorm_load(load2),renorm_pred_hard(new_x2,load2).detach().numpy(),'-D',ms =15,color = 'green')\n",
    "plt.xlabel('Load (N)' , fontsize =30)\n",
    "plt.ylabel('Hardness (GPa)', fontsize =30)\n",
    "plt.legend([\"Actual data\", \"MLHL\" ,\"SRIML\"], loc='upper right' , fontsize =30)\n",
    "plt.tick_params(axis=\"x\",labelsize=30, which= \"both\",width = 3)\n",
    "plt.tick_params(axis=\"y\",labelsize=30, which= \"both\" , width = 3)\n",
    "plt.xticks(np.arange(0, 6, 1))\n",
    "plt.yticks(np.arange(4, 9, 1))\n",
    "plt.title('NBS',fontsize =30)\n",
    "# plt.savefig('NBS_136.tif',format='tif', dpi=1200)"
   ]
  },
  {
   "cell_type": "code",
   "execution_count": null,
   "id": "e000034c-f70b-4e17-9e0a-26aa55ccb172",
   "metadata": {},
   "outputs": [],
   "source": []
  }
 ],
 "metadata": {
  "kernelspec": {
   "display_name": "Python 3 (ipykernel)",
   "language": "python",
   "name": "python3"
  },
  "language_info": {
   "codemirror_mode": {
    "name": "ipython",
    "version": 3
   },
   "file_extension": ".py",
   "mimetype": "text/x-python",
   "name": "python",
   "nbconvert_exporter": "python",
   "pygments_lexer": "ipython3",
   "version": "3.7.11"
  }
 },
 "nbformat": 4,
 "nbformat_minor": 5
}
